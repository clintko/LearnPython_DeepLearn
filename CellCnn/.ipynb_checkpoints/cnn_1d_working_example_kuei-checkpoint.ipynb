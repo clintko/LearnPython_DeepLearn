{
 "cells": [
  {
   "cell_type": "markdown",
   "metadata": {},
   "source": [
    "# Set up Environment"
   ]
  },
  {
   "cell_type": "code",
   "execution_count": 1,
   "metadata": {},
   "outputs": [],
   "source": [
    "import os\n",
    "\n",
    "# use either 'tensorflow' or 'theano'\n",
    "os.environ['KERAS_BACKEND'] = 'tensorflow'"
   ]
  },
  {
   "cell_type": "code",
   "execution_count": 2,
   "metadata": {},
   "outputs": [
    {
     "name": "stderr",
     "output_type": "stream",
     "text": [
      "Using TensorFlow backend.\n"
     ]
    }
   ],
   "source": [
    "# import keras tools\n",
    "from keras.models import Input, Model\n",
    "from keras.layers import Conv1D, Dense, Activation, MaxPool1D, Dropout\n",
    "from keras.optimizers import Adam\n",
    "from keras.regularizers import l1_l2\n",
    "from keras.utils.np_utils import to_categorical\n",
    "\n",
    "# import numpy, sklearn (generate data), matplotlib (ploting)\n",
    "import numpy as np\n",
    "from sklearn.datasets.samples_generator import make_blobs\n",
    "import matplotlib.pyplot as plt\n",
    "\n",
    "# for setting random seed\n",
    "from numpy.random import seed\n",
    "from tensorflow import set_random_seed\n",
    "\n",
    "%matplotlib inline"
   ]
  },
  {
   "cell_type": "markdown",
   "metadata": {},
   "source": [
    "# Core function: cnn_1d"
   ]
  },
  {
   "cell_type": "code",
   "execution_count": 3,
   "metadata": {},
   "outputs": [],
   "source": [
    "def cnn_1d(n_rows, n_cols, n_filters, n_classes, n_pool=1, learning_rate=0.005):\n",
    "    # the input layer\n",
    "    data_input = Input(shape=(n_rows, n_cols))\n",
    "\n",
    "    l1 = 0\n",
    "    l2 = 1e-4\n",
    "    coeff_activity = 0.0\n",
    "\n",
    "    # the filters\n",
    "    convolution = Conv1D(\n",
    "        n_filters,\n",
    "        1,\n",
    "        activation='relu',\n",
    "        kernel_regularizer=l1_l2(l1=l1, l2=l2),\n",
    "        strides=1,\n",
    "        padding='same',\n",
    "        name='conv1'\n",
    "    )(data_input)\n",
    "    \n",
    "    #convolution = Dropout(rate=0.5)(convolution)\n",
    "    #convolution = Activation('relu')(convolution)\n",
    "\n",
    "    # the cell grouping part\n",
    "    pooled = MaxPool1D(pool_size=n_pool)(convolution)\n",
    "\n",
    "    # network prediction output\n",
    "    output = Dense(\n",
    "        n_classes,\n",
    "        activation='softmax',\n",
    "        kernel_regularizer=l1_l2(l1=l1, l2=l2),\n",
    "        name='output'\n",
    "    )(pooled)\n",
    "    #)(convolution)\n",
    "\n",
    "    model = Model(inputs=data_input, outputs=output)\n",
    "\n",
    "    model.compile(\n",
    "        optimizer=Adam(lr=learning_rate),\n",
    "        loss='categorical_crossentropy',\n",
    "        metrics=['accuracy']\n",
    "    )\n",
    "\n",
    "    return model"
   ]
  },
  {
   "cell_type": "markdown",
   "metadata": {},
   "source": [
    "# Concept: Categorical crossentropy"
   ]
  },
  {
   "cell_type": "markdown",
   "metadata": {},
   "source": [
    "Given samples and labels $(x, y)$"
   ]
  },
  {
   "cell_type": "markdown",
   "metadata": {},
   "source": [
    "What we want: $\\hat{y} \\approx y$"
   ]
  },
  {
   "cell_type": "markdown",
   "metadata": {},
   "source": [
    "Loss function: $L(\\hat{y}, y)$\n",
    "- **if y is continuous data**\n",
    "    - distance between $\\hat{y}$ and $y$ \n",
    "    - $\\rightarrow L(\\hat{y}, y) =  \\parallel \\hat{y}, y \\parallel^2 = (\\hat{y} - y)^2$\n",
    "    \n",
    "\n",
    "- **if y is categorical** -> where each label indicate which category an observation is\n",
    "    - suppose there are two categories $y = 0$ or $y = 1$\n",
    "        - $L(\\hat{y}, y) = - \\big[y \\text{log}(\\hat{y}) + (1 - y) \\text{log}(1 - \\hat{y})\\big]$\n",
    "        - **$\\hat{y}$ here can be intepreted as P(Y = 1)**\n",
    "        - **$1 - \\hat{y}$ here can be intepreted as P(Y = 0)**\n",
    "    - **if y = 0**\n",
    "        - $\\Rightarrow L(\\hat{y}, y) = - \\text{log}(1 - \\hat{y})$\n",
    "        - $\\hat{y} \\approx 0 \\rightarrow L(\\hat{y}, y) \\approx - \\text{log}(1) = 0$\n",
    "        - $\\hat{y} \\approx 1 \\rightarrow L(\\hat{y}, y) \\approx - \\text{log}(1 - 1) = -(-\\infty) = \\infty$\n",
    "    - **if y = 1**\n",
    "        - $\\Rightarrow L(\\hat{y}, y) = - \\text{log}(\\hat{y})$\n",
    "        - $\\hat{y} \\approx 0 \\rightarrow L(\\hat{y}, y) \\approx - \\text{log}(0) = -(-\\infty) = \\infty$\n",
    "        - $\\hat{y} \\approx 1 \\rightarrow L(\\hat{y}, y) \\approx - \\text{log}(1) = 0$\n",
    "\n",
    "\n",
    "- **if there are three categories**    \n",
    "    - each label $y = \\big[y_0, y_1, y_2\\big]$\n",
    "        - category 0 -> $y = [ 1, 0, 0 ]$\n",
    "        - category 1 -> $y = [ 0, 1, 0 ]$\n",
    "        - category 2 -> $y = [ 0, 0, 1 ]$\n",
    "    - $\\hat{y} = \\big[P(Y = 0), P(Y = 1), P(Y = 2)\\big] = \\big[\\hat{y}_0, \\hat{y}_1, \\hat{y}_2\\big]$\n",
    "    - The loss function can be written as\n",
    "        - $L(\\hat{y}, y) = - \\sum y_i \\text{log} \\hat{y}_i$"
   ]
  },
  {
   "cell_type": "markdown",
   "metadata": {},
   "source": [
    "# Generate Simple Data"
   ]
  },
  {
   "cell_type": "markdown",
   "metadata": {},
   "source": [
    "### Summary of Data\n",
    "- two features: X and Y ---> n_features = 2"
   ]
  },
  {
   "cell_type": "code",
   "execution_count": 4,
   "metadata": {},
   "outputs": [
    {
     "data": {
      "text/plain": [
       "<matplotlib.collections.PathCollection at 0x7f2acd897a20>"
      ]
     },
     "execution_count": 4,
     "metadata": {},
     "output_type": "execute_result"
    },
    {
     "data": {
      "image/png": "[encoded data removed]",
      "text/plain": [
       "<matplotlib.figure.Figure at 0x7f2acd90b710>"
      ]
     },
     "metadata": {},
     "output_type": "display_data"
    }
   ],
   "source": [
    "# parameters to generate data\n",
    "n_features = 2             # number of features (ex; X and Y --- 2)\n",
    "points_per_feature = 5     # for each category, generate how much data points\n",
    "centers = [(2, 2), (4, 4)] # specify the centers of each category\n",
    "\n",
    "# create data\n",
    "data, labels = make_blobs(\n",
    "    n_samples = points_per_feature * n_features, # number of total samples\n",
    "    n_features = n_features,                     # number of features (ex: X and Y --- 2)\n",
    "    centers = centers,                           # centers --- length of centers matchs the n_features\n",
    "    cluster_std=0.3,                             # variation\n",
    "    random_state=5                               # set seed\n",
    ")\n",
    "\n",
    "# plot the results\n",
    "plt.figure(figsize=(3,3))\n",
    "plt.scatter(data[:, 0], data[:, 1], s=10, alpha=1) # alpha=0.3"
   ]
  },
  {
   "cell_type": "code",
   "execution_count": 5,
   "metadata": {},
   "outputs": [
    {
     "name": "stdout",
     "output_type": "stream",
     "text": [
      "(10, 2)\n"
     ]
    },
    {
     "data": {
      "text/plain": [
       "array([[ 1.72723028,  1.822509  ],\n",
       "       [ 2.72923136,  1.92437236],\n",
       "       [ 4.3454173 ,  4.5571993 ],\n",
       "       [ 3.50056344,  3.78994629],\n",
       "       [ 2.05628097,  1.90103901],\n",
       "       [ 3.89235132,  4.18104148]])"
      ]
     },
     "execution_count": 5,
     "metadata": {},
     "output_type": "execute_result"
    }
   ],
   "source": [
    "print(data.shape) # number of points, number features\n",
    "data[0:6]         # observe the data"
   ]
  },
  {
   "cell_type": "markdown",
   "metadata": {},
   "source": [
    "### Convert Data to input the model"
   ]
  },
  {
   "cell_type": "markdown",
   "metadata": {},
   "source": [
    "**Data 1**\n",
    "- batchsize = 10\n",
    "- length = 1\n",
    "- features = 2"
   ]
  },
  {
   "cell_type": "code",
   "execution_count": 6,
   "metadata": {},
   "outputs": [
    {
     "name": "stdout",
     "output_type": "stream",
     "text": [
      "(10, 2)\n",
      "(10, 2, 1)\n",
      "(10, 1, 2)\n"
     ]
    }
   ],
   "source": [
    "# the data need to be in the order:\n",
    "#   batch size, rows, cols\n",
    "# So, we first expand to 3-D, then switch the last 2 axes\n",
    "data_input = data\n",
    "print(data_input.shape)\n",
    "data_input = np.expand_dims(data_input, axis=2)\n",
    "print(data_input.shape)\n",
    "data_input = np.swapaxes(data_input, 2, 1)\n",
    "print(data_input.shape)"
   ]
  },
  {
   "cell_type": "code",
   "execution_count": 7,
   "metadata": {},
   "outputs": [
    {
     "data": {
      "text/plain": [
       "array([[[ 1.72723028,  1.822509  ]],\n",
       "\n",
       "       [[ 2.72923136,  1.92437236]],\n",
       "\n",
       "       [[ 4.3454173 ,  4.5571993 ]],\n",
       "\n",
       "       [[ 3.50056344,  3.78994629]],\n",
       "\n",
       "       [[ 2.05628097,  1.90103901]],\n",
       "\n",
       "       [[ 3.89235132,  4.18104148]],\n",
       "\n",
       "       [[ 3.54664613,  4.19345425]],\n",
       "\n",
       "       [[ 2.03288295,  2.47474434]],\n",
       "\n",
       "       [[ 3.64217062,  3.93853705]],\n",
       "\n",
       "       [[ 2.13236825,  1.90073895]]])"
      ]
     },
     "execution_count": 7,
     "metadata": {},
     "output_type": "execute_result"
    }
   ],
   "source": [
    "data_input"
   ]
  },
  {
   "cell_type": "markdown",
   "metadata": {},
   "source": [
    "**Data 2**\n",
    "- batchsize = 5\n",
    "- length = 2\n",
    "- features = 2"
   ]
  },
  {
   "cell_type": "code",
   "execution_count": 8,
   "metadata": {},
   "outputs": [
    {
     "name": "stdout",
     "output_type": "stream",
     "text": [
      "(10, 2)\n",
      "(10, 2, 1)\n",
      "(5, 2, 2)\n"
     ]
    }
   ],
   "source": [
    "tmp = data\n",
    "print(tmp.shape)\n",
    "tmp = np.expand_dims(tmp, axis=2)\n",
    "print(tmp.shape)\n",
    "tmp = np.swapaxes(tmp, 2, 1)\n",
    "tmp = tmp.reshape(5, 2, 2)\n",
    "print(tmp.shape)\n",
    "data_input2 = tmp"
   ]
  },
  {
   "cell_type": "code",
   "execution_count": 9,
   "metadata": {},
   "outputs": [
    {
     "data": {
      "text/plain": [
       "array([[[ 1.72723028,  1.822509  ],\n",
       "        [ 2.72923136,  1.92437236]],\n",
       "\n",
       "       [[ 4.3454173 ,  4.5571993 ],\n",
       "        [ 3.50056344,  3.78994629]],\n",
       "\n",
       "       [[ 2.05628097,  1.90103901],\n",
       "        [ 3.89235132,  4.18104148]],\n",
       "\n",
       "       [[ 3.54664613,  4.19345425],\n",
       "        [ 2.03288295,  2.47474434]],\n",
       "\n",
       "       [[ 3.64217062,  3.93853705],\n",
       "        [ 2.13236825,  1.90073895]]])"
      ]
     },
     "execution_count": 9,
     "metadata": {},
     "output_type": "execute_result"
    }
   ],
   "source": [
    "data_input2"
   ]
  },
  {
   "cell_type": "markdown",
   "metadata": {},
   "source": [
    "### convert labels using the function to_categorical"
   ]
  },
  {
   "cell_type": "code",
   "execution_count": 10,
   "metadata": {},
   "outputs": [
    {
     "name": "stdout",
     "output_type": "stream",
     "text": [
      "(10,)\n"
     ]
    },
    {
     "data": {
      "text/plain": [
       "array([0, 0, 1, 1, 0, 1, 1, 0, 1, 0])"
      ]
     },
     "execution_count": 10,
     "metadata": {},
     "output_type": "execute_result"
    }
   ],
   "source": [
    "print(labels.shape)\n",
    "labels"
   ]
  },
  {
   "cell_type": "code",
   "execution_count": 11,
   "metadata": {},
   "outputs": [
    {
     "data": {
      "text/plain": [
       "array([[ 1.,  0.],\n",
       "       [ 1.,  0.],\n",
       "       [ 0.,  1.],\n",
       "       [ 0.,  1.],\n",
       "       [ 1.,  0.],\n",
       "       [ 0.,  1.],\n",
       "       [ 0.,  1.],\n",
       "       [ 1.,  0.],\n",
       "       [ 0.,  1.],\n",
       "       [ 1.,  0.]])"
      ]
     },
     "execution_count": 11,
     "metadata": {},
     "output_type": "execute_result"
    }
   ],
   "source": [
    "binary_labels = to_categorical(labels)\n",
    "binary_labels"
   ]
  },
  {
   "cell_type": "code",
   "execution_count": 12,
   "metadata": {},
   "outputs": [],
   "source": [
    "binary_labels = np.int32(binary_labels)"
   ]
  },
  {
   "cell_type": "markdown",
   "metadata": {},
   "source": [
    "# Construct model"
   ]
  },
  {
   "cell_type": "markdown",
   "metadata": {},
   "source": [
    "### model 1"
   ]
  },
  {
   "cell_type": "code",
   "execution_count": 13,
   "metadata": {},
   "outputs": [],
   "source": [
    "model = cnn_1d(\n",
    "    n_rows=1, \n",
    "    n_cols=2,     # number of features\n",
    "    n_filters=5,  # number of filter\n",
    "    n_classes=2,  # number of categories / classes\n",
    "    n_pool=1,     \n",
    "    learning_rate=0.1)"
   ]
  },
  {
   "cell_type": "code",
   "execution_count": 14,
   "metadata": {},
   "outputs": [
    {
     "name": "stdout",
     "output_type": "stream",
     "text": [
      "_________________________________________________________________\n",
      "Layer (type)                 Output Shape              Param #   \n",
      "=================================================================\n",
      "input_1 (InputLayer)         (None, 1, 2)              0         \n",
      "_________________________________________________________________\n",
      "conv1 (Conv1D)               (None, 1, 5)              15        \n",
      "_________________________________________________________________\n",
      "max_pooling1d_1 (MaxPooling1 (None, 1, 5)              0         \n",
      "_________________________________________________________________\n",
      "output (Dense)               (None, 1, 2)              12        \n",
      "=================================================================\n",
      "Total params: 27\n",
      "Trainable params: 27\n",
      "Non-trainable params: 0\n",
      "_________________________________________________________________\n"
     ]
    }
   ],
   "source": [
    "model.summary()"
   ]
  },
  {
   "cell_type": "markdown",
   "metadata": {},
   "source": [
    "### model 2"
   ]
  },
  {
   "cell_type": "code",
   "execution_count": 15,
   "metadata": {},
   "outputs": [],
   "source": [
    "model2 = cnn_1d(\n",
    "    n_rows=2, \n",
    "    n_cols=2,     # number of features\n",
    "    n_filters=5,  # number of filter\n",
    "    n_classes=2,  # number of categories\n",
    "    n_pool=1,     \n",
    "    learning_rate=0.1)"
   ]
  },
  {
   "cell_type": "code",
   "execution_count": 16,
   "metadata": {},
   "outputs": [
    {
     "name": "stdout",
     "output_type": "stream",
     "text": [
      "_________________________________________________________________\n",
      "Layer (type)                 Output Shape              Param #   \n",
      "=================================================================\n",
      "input_2 (InputLayer)         (None, 2, 2)              0         \n",
      "_________________________________________________________________\n",
      "conv1 (Conv1D)               (None, 2, 5)              15        \n",
      "_________________________________________________________________\n",
      "max_pooling1d_2 (MaxPooling1 (None, 2, 5)              0         \n",
      "_________________________________________________________________\n",
      "output (Dense)               (None, 2, 2)              12        \n",
      "=================================================================\n",
      "Total params: 27\n",
      "Trainable params: 27\n",
      "Non-trainable params: 0\n",
      "_________________________________________________________________\n"
     ]
    }
   ],
   "source": [
    "model2.summary()"
   ]
  },
  {
   "cell_type": "markdown",
   "metadata": {},
   "source": [
    "### model 3"
   ]
  },
  {
   "cell_type": "code",
   "execution_count": 17,
   "metadata": {},
   "outputs": [],
   "source": [
    "model3 = cnn_1d(\n",
    "    n_rows=1, \n",
    "    n_cols=2,     # number of features\n",
    "    n_filters=1,  # number of filter\n",
    "    n_classes=2,  # number of categories\n",
    "    n_pool=1,     \n",
    "    learning_rate=0.1)"
   ]
  },
  {
   "cell_type": "code",
   "execution_count": 18,
   "metadata": {},
   "outputs": [
    {
     "name": "stdout",
     "output_type": "stream",
     "text": [
      "_________________________________________________________________\n",
      "Layer (type)                 Output Shape              Param #   \n",
      "=================================================================\n",
      "input_3 (InputLayer)         (None, 1, 2)              0         \n",
      "_________________________________________________________________\n",
      "conv1 (Conv1D)               (None, 1, 1)              3         \n",
      "_________________________________________________________________\n",
      "max_pooling1d_3 (MaxPooling1 (None, 1, 1)              0         \n",
      "_________________________________________________________________\n",
      "output (Dense)               (None, 1, 2)              4         \n",
      "=================================================================\n",
      "Total params: 7\n",
      "Trainable params: 7\n",
      "Non-trainable params: 0\n",
      "_________________________________________________________________\n"
     ]
    }
   ],
   "source": [
    "model3.summary()"
   ]
  },
  {
   "cell_type": "markdown",
   "metadata": {},
   "source": [
    "# Train the Model"
   ]
  },
  {
   "cell_type": "markdown",
   "metadata": {},
   "source": [
    "### train model 1"
   ]
  },
  {
   "cell_type": "code",
   "execution_count": 19,
   "metadata": {},
   "outputs": [],
   "source": [
    "label_input = np.expand_dims(binary_labels, axis=1)\n",
    "label_input2 = np.expand_dims(binary_labels, axis=1).reshape(5, 2, 2)"
   ]
  },
  {
   "cell_type": "code",
   "execution_count": 20,
   "metadata": {},
   "outputs": [
    {
     "data": {
      "text/plain": [
       "<keras.callbacks.History at 0x7f2acb4e30b8>"
      ]
     },
     "execution_count": 20,
     "metadata": {},
     "output_type": "execute_result"
    }
   ],
   "source": [
    "seed(1)\n",
    "set_random_seed(2)\n",
    "model.fit(\n",
    "    data_input, \n",
    "    label_input, \n",
    "    batch_size = points_per_feature * n_features,\n",
    "    epochs=1000,\n",
    "    validation_split=0.3,\n",
    "    verbose=0\n",
    ")"
   ]
  },
  {
   "cell_type": "markdown",
   "metadata": {},
   "source": [
    "### train model 2"
   ]
  },
  {
   "cell_type": "code",
   "execution_count": 21,
   "metadata": {},
   "outputs": [
    {
     "data": {
      "text/plain": [
       "<keras.callbacks.History at 0x7f2aeb2b2b00>"
      ]
     },
     "execution_count": 21,
     "metadata": {},
     "output_type": "execute_result"
    }
   ],
   "source": [
    "seed(1)\n",
    "set_random_seed(2)\n",
    "model2.fit(\n",
    "    data_input2, \n",
    "    label_input2, \n",
    "    batch_size = points_per_feature * n_features,\n",
    "    epochs=1000,\n",
    "    validation_split=0.3,\n",
    "    verbose=0\n",
    ")"
   ]
  },
  {
   "cell_type": "markdown",
   "metadata": {},
   "source": [
    "### train model 3"
   ]
  },
  {
   "cell_type": "code",
   "execution_count": 22,
   "metadata": {},
   "outputs": [
    {
     "data": {
      "text/plain": [
       "<keras.callbacks.History at 0x7f2ac8085ef0>"
      ]
     },
     "execution_count": 22,
     "metadata": {},
     "output_type": "execute_result"
    }
   ],
   "source": [
    "seed(1)\n",
    "set_random_seed(2)\n",
    "model3.fit(\n",
    "    data_input, \n",
    "    label_input, \n",
    "    batch_size = points_per_feature * n_features,\n",
    "    epochs=1000,\n",
    "    validation_split=0.3,\n",
    "    verbose=0\n",
    ")"
   ]
  },
  {
   "cell_type": "markdown",
   "metadata": {},
   "source": [
    "# Test data"
   ]
  },
  {
   "cell_type": "code",
   "execution_count": 29,
   "metadata": {},
   "outputs": [
    {
     "data": {
      "text/plain": [
       "array([[ 1.72723028,  1.822509  ,  0.        ],\n",
       "       [ 2.72923136,  1.92437236,  0.        ],\n",
       "       [ 4.3454173 ,  4.5571993 ,  1.        ],\n",
       "       [ 3.50056344,  3.78994629,  1.        ],\n",
       "       [ 2.05628097,  1.90103901,  0.        ],\n",
       "       [ 3.89235132,  4.18104148,  1.        ],\n",
       "       [ 3.54664613,  4.19345425,  1.        ],\n",
       "       [ 2.03288295,  2.47474434,  0.        ],\n",
       "       [ 3.64217062,  3.93853705,  1.        ],\n",
       "       [ 2.13236825,  1.90073895,  0.        ]])"
      ]
     },
     "execution_count": 29,
     "metadata": {},
     "output_type": "execute_result"
    }
   ],
   "source": [
    "np.c_[data, labels]"
   ]
  },
  {
   "cell_type": "code",
   "execution_count": 30,
   "metadata": {},
   "outputs": [],
   "source": [
    "test_data = np.array(\n",
    "    [\n",
    "        [2, 2], [4, 4], [3, 3], [2.0, 4.0], [2.5, 2.5], [0, 0]\n",
    "    ]\n",
    ")"
   ]
  },
  {
   "cell_type": "code",
   "execution_count": 31,
   "metadata": {},
   "outputs": [
    {
     "data": {
      "text/plain": [
       "<matplotlib.collections.PathCollection at 0x7f2ac2700e48>"
      ]
     },
     "execution_count": 31,
     "metadata": {},
     "output_type": "execute_result"
    },
    {
     "data": {
      "image/png": "[encoded data removed]",
      "text/plain": [
       "<matplotlib.figure.Figure at 0x7f2ac279bf60>"
      ]
     },
     "metadata": {},
     "output_type": "display_data"
    }
   ],
   "source": [
    "# plot the results\n",
    "plt.figure(figsize=(3,3))\n",
    "plt.scatter(data[:, 0], data[:, 1], s=10, alpha=1) # alpha=0.3\n",
    "plt.scatter(test_data[:, 0], test_data[:, 1], s=10, alpha=1) # alpha=0.3"
   ]
  },
  {
   "cell_type": "code",
   "execution_count": 32,
   "metadata": {},
   "outputs": [
    {
     "data": {
      "text/plain": [
       "array([[[  9.99428928e-01,   5.71066863e-04]],\n",
       "\n",
       "       [[  6.89261433e-05,   9.99931097e-01]],\n",
       "\n",
       "       [[  2.57790238e-01,   7.42209733e-01]],\n",
       "\n",
       "       [[  3.84193758e-04,   9.99615788e-01]],\n",
       "\n",
       "       [[  9.61021006e-01,   3.89789902e-02]],\n",
       "\n",
       "       [[  9.99718130e-01,   2.81820365e-04]]], dtype=float32)"
      ]
     },
     "execution_count": 32,
     "metadata": {},
     "output_type": "execute_result"
    }
   ],
   "source": [
    "# test data using model 1\n",
    "model.predict(np.expand_dims(test_data, 1))"
   ]
  },
  {
   "cell_type": "code",
   "execution_count": 33,
   "metadata": {},
   "outputs": [
    {
     "name": "stdout",
     "output_type": "stream",
     "text": [
      "(6, 2)\n",
      "(6, 1, 2)\n",
      "(3, 2, 2)\n"
     ]
    },
    {
     "data": {
      "text/plain": [
       "array([[[  9.99271214e-01,   7.28804269e-04],\n",
       "        [  1.05519386e-04,   9.99894500e-01]],\n",
       "\n",
       "       [[  2.75565296e-01,   7.24434733e-01],\n",
       "        [  5.67819880e-05,   9.99943256e-01]],\n",
       "\n",
       "       [[  9.58049297e-01,   4.19506803e-02],\n",
       "        [  9.99996424e-01,   3.58182115e-06]]], dtype=float32)"
      ]
     },
     "execution_count": 33,
     "metadata": {},
     "output_type": "execute_result"
    }
   ],
   "source": [
    "# test data using model 2\n",
    "tmp = test_data\n",
    "print(tmp.shape)\n",
    "tmp = np.expand_dims(tmp, 1)\n",
    "print(tmp.shape)\n",
    "tmp = tmp.reshape(3, 2, 2)\n",
    "print(tmp.shape)\n",
    "model2.predict(tmp)"
   ]
  },
  {
   "cell_type": "code",
   "execution_count": 34,
   "metadata": {},
   "outputs": [
    {
     "data": {
      "text/plain": [
       "array([[[  9.99235868e-01,   7.64162745e-04]],\n",
       "\n",
       "       [[  9.74980721e-05,   9.99902487e-01]],\n",
       "\n",
       "       [[  2.63121694e-01,   7.36878335e-01]],\n",
       "\n",
       "       [[  1.65491743e-04,   9.99834538e-01]],\n",
       "\n",
       "       [[  9.55768466e-01,   4.42315079e-02]],\n",
       "\n",
       "       [[  9.99686480e-01,   3.13495373e-04]]], dtype=float32)"
      ]
     },
     "execution_count": 34,
     "metadata": {},
     "output_type": "execute_result"
    }
   ],
   "source": [
    "# test data using model 3\n",
    "model3.predict(np.expand_dims(test_data, 1))"
   ]
  },
  {
   "cell_type": "markdown",
   "metadata": {},
   "source": [
    "# Weights"
   ]
  },
  {
   "cell_type": "markdown",
   "metadata": {},
   "source": [
    "### weights of Model 1 (#filter = 5)"
   ]
  },
  {
   "cell_type": "code",
   "execution_count": 23,
   "metadata": {},
   "outputs": [
    {
     "name": "stdout",
     "output_type": "stream",
     "text": [
      "_________________________________________________________________\n",
      "Layer (type)                 Output Shape              Param #   \n",
      "=================================================================\n",
      "input_1 (InputLayer)         (None, 1, 2)              0         \n",
      "_________________________________________________________________\n",
      "conv1 (Conv1D)               (None, 1, 5)              15        \n",
      "_________________________________________________________________\n",
      "max_pooling1d_1 (MaxPooling1 (None, 1, 5)              0         \n",
      "_________________________________________________________________\n",
      "output (Dense)               (None, 1, 2)              12        \n",
      "=================================================================\n",
      "Total params: 27\n",
      "Trainable params: 27\n",
      "Non-trainable params: 0\n",
      "_________________________________________________________________\n"
     ]
    }
   ],
   "source": [
    "model.summary()"
   ]
  },
  {
   "cell_type": "code",
   "execution_count": 24,
   "metadata": {},
   "outputs": [
    {
     "name": "stdout",
     "output_type": "stream",
     "text": [
      "4\n",
      "==========================\n",
      "(1, 2, 5)\n",
      "[[[  1.31177410e-01   8.19572806e-02  -2.68574542e-23  -3.97116019e-05\n",
      "     2.09502444e-01]\n",
      "  [  1.31506479e+00   1.21274221e+00   1.18271446e-23  -1.09772314e-04\n",
      "     1.20702946e+00]]]\n",
      "==========================\n",
      "(5,)\n",
      "[-2.76954293 -2.47468877 -0.58827573 -0.51551163 -2.72683764]\n",
      "==========================\n",
      "(5, 2)\n",
      "[[ -1.02557528e+00   1.20409024e+00]\n",
      " [ -9.84805405e-01   9.98008490e-01]\n",
      " [ -3.31991718e-24  -5.23395682e-24]\n",
      " [ -4.16079310e-25   4.70978399e-24]\n",
      " [ -8.88909638e-01   1.04054546e+00]]\n",
      "==========================\n",
      "(2,)\n",
      "[ 4.08697939 -4.08697939]\n"
     ]
    }
   ],
   "source": [
    "weights = model.get_weights()\n",
    "print(len(weights))\n",
    "for idx in range(len(weights)):\n",
    "    print(\"==========================\")\n",
    "    print(weights[idx].shape)\n",
    "    print(weights[idx])"
   ]
  },
  {
   "cell_type": "markdown",
   "metadata": {},
   "source": [
    "### weights of Model 2 (#filter = 5)"
   ]
  },
  {
   "cell_type": "code",
   "execution_count": 25,
   "metadata": {},
   "outputs": [
    {
     "name": "stdout",
     "output_type": "stream",
     "text": [
      "_________________________________________________________________\n",
      "Layer (type)                 Output Shape              Param #   \n",
      "=================================================================\n",
      "input_2 (InputLayer)         (None, 2, 2)              0         \n",
      "_________________________________________________________________\n",
      "conv1 (Conv1D)               (None, 2, 5)              15        \n",
      "_________________________________________________________________\n",
      "max_pooling1d_2 (MaxPooling1 (None, 2, 5)              0         \n",
      "_________________________________________________________________\n",
      "output (Dense)               (None, 2, 2)              12        \n",
      "=================================================================\n",
      "Total params: 27\n",
      "Trainable params: 27\n",
      "Non-trainable params: 0\n",
      "_________________________________________________________________\n"
     ]
    }
   ],
   "source": [
    "model2.summary()"
   ]
  },
  {
   "cell_type": "code",
   "execution_count": 26,
   "metadata": {},
   "outputs": [
    {
     "name": "stdout",
     "output_type": "stream",
     "text": [
      "4\n",
      "==========================\n",
      "(1, 2, 5)\n",
      "[[[ -1.71352309e-04  -1.13930998e-08  -9.21328663e-15  -3.05128675e-02\n",
      "     1.38560519e-01]\n",
      "  [ -7.43678538e-04   3.51667073e-14  -2.73513267e-18   1.67125797e+00\n",
      "    -1.01126540e+00]]]\n",
      "==========================\n",
      "(5,)\n",
      "[-0.51185536 -0.5135926  -0.523211   -2.95543146  3.65756559]\n",
      "==========================\n",
      "(5, 2)\n",
      "[[ -2.85871293e-20   6.64408012e-20]\n",
      " [ -1.04822464e-23   2.72312733e-23]\n",
      " [  1.09487759e-22  -6.31873988e-23]\n",
      " [ -1.72609413e+00   2.01739573e+00]\n",
      " [  1.29099143e+00  -1.05554116e+00]]\n",
      "==========================\n",
      "(2,)\n",
      "[ 1.9785192 -1.9785192]\n"
     ]
    }
   ],
   "source": [
    "weights = model2.get_weights()\n",
    "print(len(weights))\n",
    "for idx in range(len(weights)):\n",
    "    print(\"==========================\")\n",
    "    print(weights[idx].shape)\n",
    "    print(weights[idx])"
   ]
  },
  {
   "cell_type": "markdown",
   "metadata": {},
   "source": [
    "### weights of Model 3 (#filter = 1)"
   ]
  },
  {
   "cell_type": "code",
   "execution_count": 27,
   "metadata": {},
   "outputs": [
    {
     "name": "stdout",
     "output_type": "stream",
     "text": [
      "_________________________________________________________________\n",
      "Layer (type)                 Output Shape              Param #   \n",
      "=================================================================\n",
      "input_3 (InputLayer)         (None, 1, 2)              0         \n",
      "_________________________________________________________________\n",
      "conv1 (Conv1D)               (None, 1, 1)              3         \n",
      "_________________________________________________________________\n",
      "max_pooling1d_3 (MaxPooling1 (None, 1, 1)              0         \n",
      "_________________________________________________________________\n",
      "output (Dense)               (None, 1, 2)              4         \n",
      "=================================================================\n",
      "Total params: 7\n",
      "Trainable params: 7\n",
      "Non-trainable params: 0\n",
      "_________________________________________________________________\n"
     ]
    }
   ],
   "source": [
    "model3.summary()"
   ]
  },
  {
   "cell_type": "code",
   "execution_count": 28,
   "metadata": {},
   "outputs": [
    {
     "name": "stdout",
     "output_type": "stream",
     "text": [
      "4\n",
      "==========================\n",
      "(1, 2, 1)\n",
      "[[[ 0.06764239]\n",
      "  [ 2.03026366]]]\n",
      "==========================\n",
      "(1,)\n",
      "[-3.9679029]\n",
      "==========================\n",
      "(1, 2)\n",
      "[[-1.95099151  1.96041965]]\n",
      "==========================\n",
      "(2,)\n",
      "[ 4.03370619 -4.03370619]\n"
     ]
    }
   ],
   "source": [
    "weights = model3.get_weights()\n",
    "print(len(weights))\n",
    "for idx in range(len(weights)):\n",
    "    print(\"==========================\")\n",
    "    print(weights[idx].shape)\n",
    "    print(weights[idx])"
   ]
  },
  {
   "cell_type": "markdown",
   "metadata": {},
   "source": [
    "# Reconstruct the results from weights"
   ]
  },
  {
   "cell_type": "code",
   "execution_count": 35,
   "metadata": {},
   "outputs": [],
   "source": [
    "relu = lambda x: np.maximum(x, 0, x)"
   ]
  },
  {
   "cell_type": "markdown",
   "metadata": {},
   "source": [
    "**Model 3 (# filter = 1, length = 1)**"
   ]
  },
  {
   "cell_type": "code",
   "execution_count": 36,
   "metadata": {},
   "outputs": [
    {
     "name": "stdout",
     "output_type": "stream",
     "text": [
      "4\n",
      "==========================\n",
      "(1, 2, 1)\n",
      "[[[ 0.06764239]\n",
      "  [ 2.03026366]]]\n",
      "==========================\n",
      "(1,)\n",
      "[-3.9679029]\n",
      "==========================\n",
      "(1, 2)\n",
      "[[-1.95099151  1.96041965]]\n",
      "==========================\n",
      "(2,)\n",
      "[ 4.03370619 -4.03370619]\n"
     ]
    }
   ],
   "source": [
    "weights = model3.get_weights()\n",
    "print(len(weights))\n",
    "for idx in range(len(weights)):\n",
    "    print(\"==========================\")\n",
    "    print(weights[idx].shape)\n",
    "    print(weights[idx])"
   ]
  },
  {
   "cell_type": "markdown",
   "metadata": {},
   "source": [
    "calculate all the test data points"
   ]
  },
  {
   "cell_type": "code",
   "execution_count": 37,
   "metadata": {},
   "outputs": [],
   "source": [
    "# np.dot(test_data[idx, :], weights[0])"
   ]
  },
  {
   "cell_type": "code",
   "execution_count": 38,
   "metadata": {},
   "outputs": [
    {
     "name": "stdout",
     "output_type": "stream",
     "text": [
      "[0.9992358375896917, 0.00076416241030841429]\n",
      "[9.7498060929563079e-05, 0.99990250193907038]\n",
      "[0.26312144468749088, 0.73687855531250923]\n",
      "[0.00016549134418983254, 0.99983450865581014]\n",
      "[0.95576852761203579, 0.044231472387964224]\n",
      "[0.99968650461564112, 0.00031349538435880044]\n"
     ]
    }
   ],
   "source": [
    "for idx in range(6):\n",
    "    tmp1 = np.dot(test_data[idx, :], weights[0]) + weights[1]\n",
    "    tmp1 = relu(tmp1)\n",
    "    tmp2 = np.dot(tmp1[0], weights[2]) + weights[3]\n",
    "    tmp3 = np.exp(tmp2)\n",
    "    tmp4 = [tmp3[0] / np.sum(tmp3), tmp3[1] / np.sum(tmp3)]\n",
    "    print(tmp4)"
   ]
  },
  {
   "cell_type": "code",
   "execution_count": 39,
   "metadata": {},
   "outputs": [
    {
     "data": {
      "text/plain": [
       "array([[[  9.99235868e-01,   7.64162745e-04]],\n",
       "\n",
       "       [[  9.74980721e-05,   9.99902487e-01]],\n",
       "\n",
       "       [[  2.63121694e-01,   7.36878335e-01]],\n",
       "\n",
       "       [[  1.65491743e-04,   9.99834538e-01]],\n",
       "\n",
       "       [[  9.55768466e-01,   4.42315079e-02]],\n",
       "\n",
       "       [[  9.99686480e-01,   3.13495373e-04]]], dtype=float32)"
      ]
     },
     "execution_count": 39,
     "metadata": {},
     "output_type": "execute_result"
    }
   ],
   "source": [
    "model3.predict(np.expand_dims(test_data, 1))"
   ]
  },
  {
   "cell_type": "markdown",
   "metadata": {},
   "source": [
    "**Model 1 (# filter = 5, length = 1)**"
   ]
  },
  {
   "cell_type": "code",
   "execution_count": 40,
   "metadata": {},
   "outputs": [
    {
     "name": "stdout",
     "output_type": "stream",
     "text": [
      "4\n",
      "==========================\n",
      "(1, 2, 5)\n",
      "[[[  1.31177410e-01   8.19572806e-02  -2.68574542e-23  -3.97116019e-05\n",
      "     2.09502444e-01]\n",
      "  [  1.31506479e+00   1.21274221e+00   1.18271446e-23  -1.09772314e-04\n",
      "     1.20702946e+00]]]\n",
      "==========================\n",
      "(5,)\n",
      "[-2.76954293 -2.47468877 -0.58827573 -0.51551163 -2.72683764]\n",
      "==========================\n",
      "(5, 2)\n",
      "[[ -1.02557528e+00   1.20409024e+00]\n",
      " [ -9.84805405e-01   9.98008490e-01]\n",
      " [ -3.31991718e-24  -5.23395682e-24]\n",
      " [ -4.16079310e-25   4.70978399e-24]\n",
      " [ -8.88909638e-01   1.04054546e+00]]\n",
      "==========================\n",
      "(2,)\n",
      "[ 4.08697939 -4.08697939]\n"
     ]
    }
   ],
   "source": [
    "weights = model.get_weights()\n",
    "print(len(weights))\n",
    "for idx in range(len(weights)):\n",
    "    print(\"==========================\")\n",
    "    print(weights[idx].shape)\n",
    "    print(weights[idx])"
   ]
  },
  {
   "cell_type": "code",
   "execution_count": 41,
   "metadata": {},
   "outputs": [
    {
     "name": "stdout",
     "output_type": "stream",
     "text": [
      "[0.9994289330050995, 0.00057106699490047761]\n",
      "[6.8926175072595754e-05, 0.99993107382492741]\n",
      "[0.2577900971903308, 0.74220990280966914]\n",
      "[0.00038419389151814263, 0.99961580610848189]\n",
      "[0.96102099886053716, 0.038979001139462788]\n",
      "[0.99971817961948173, 0.00028182038051830568]\n"
     ]
    }
   ],
   "source": [
    "for idx in range(6):\n",
    "    tmp1 = np.dot(test_data[idx, :], weights[0]) + weights[1]\n",
    "    tmp1 = relu(tmp1)\n",
    "    tmp2 = np.dot(tmp1[0], weights[2]) + weights[3]\n",
    "    tmp3 = np.exp(tmp2)\n",
    "    tmp4 = [tmp3[0] / np.sum(tmp3), tmp3[1] / np.sum(tmp3)]\n",
    "    print(tmp4)"
   ]
  },
  {
   "cell_type": "code",
   "execution_count": 42,
   "metadata": {},
   "outputs": [
    {
     "data": {
      "text/plain": [
       "array([[[  9.99428928e-01,   5.71066863e-04]],\n",
       "\n",
       "       [[  6.89261433e-05,   9.99931097e-01]],\n",
       "\n",
       "       [[  2.57790238e-01,   7.42209733e-01]],\n",
       "\n",
       "       [[  3.84193758e-04,   9.99615788e-01]],\n",
       "\n",
       "       [[  9.61021006e-01,   3.89789902e-02]],\n",
       "\n",
       "       [[  9.99718130e-01,   2.81820365e-04]]], dtype=float32)"
      ]
     },
     "execution_count": 42,
     "metadata": {},
     "output_type": "execute_result"
    }
   ],
   "source": [
    "model.predict(np.expand_dims(test_data, 1))"
   ]
  },
  {
   "cell_type": "markdown",
   "metadata": {},
   "source": [
    "# plot the decision boundary"
   ]
  },
  {
   "cell_type": "code",
   "execution_count": 43,
   "metadata": {},
   "outputs": [],
   "source": [
    "def plot_decision_boundary(pred_func, X, y):\n",
    "    # Set min and max values and give it some padding\n",
    "    x_min, x_max = X[:, 0].min() - .5, X[:, 0].max() + .5\n",
    "    y_min, y_max = X[:, 1].min() - .5, X[:, 1].max() + .5\n",
    "    h = 0.01\n",
    "    # Generate a grid of points with distance h between them\n",
    "    xx, yy = np.meshgrid(np.arange(x_min, x_max, h), np.arange(y_min, y_max, h))\n",
    "    # Predict the function value for the whole gid\n",
    "    Z = pred_func(np.c_[xx.ravel(), yy.ravel()])\n",
    "    Z = Z.reshape(xx.shape)\n",
    "    # Plot the contour and training examples\n",
    "    plt.contourf(xx, yy, Z, cmap=plt.cm.Spectral)\n",
    "    plt.scatter(X[:, 0], X[:, 1], c=y, cmap=plt.cm.Spectral)\n",
    "    plt.show()"
   ]
  },
  {
   "cell_type": "code",
   "execution_count": 44,
   "metadata": {},
   "outputs": [
    {
     "data": {
      "text/plain": [
       "array([0, 0, 1, 1, 0, 1, 1, 0, 1, 0])"
      ]
     },
     "execution_count": 44,
     "metadata": {},
     "output_type": "execute_result"
    }
   ],
   "source": [
    "labels"
   ]
  },
  {
   "cell_type": "code",
   "execution_count": 45,
   "metadata": {},
   "outputs": [
    {
     "data": {
      "text/plain": [
       "array([[ 1.72723028,  1.822509  ],\n",
       "       [ 2.72923136,  1.92437236],\n",
       "       [ 4.3454173 ,  4.5571993 ],\n",
       "       [ 3.50056344,  3.78994629],\n",
       "       [ 2.05628097,  1.90103901],\n",
       "       [ 3.89235132,  4.18104148],\n",
       "       [ 3.54664613,  4.19345425],\n",
       "       [ 2.03288295,  2.47474434],\n",
       "       [ 3.64217062,  3.93853705],\n",
       "       [ 2.13236825,  1.90073895]])"
      ]
     },
     "execution_count": 45,
     "metadata": {},
     "output_type": "execute_result"
    }
   ],
   "source": [
    "data"
   ]
  },
  {
   "cell_type": "code",
   "execution_count": 46,
   "metadata": {},
   "outputs": [
    {
     "data": {
      "text/plain": [
       "array([0, 1, 1, 1, 0, 0])"
      ]
     },
     "execution_count": 46,
     "metadata": {},
     "output_type": "execute_result"
    }
   ],
   "source": [
    "res = model.predict(np.expand_dims(test_data, 1))\n",
    "res = np.squeeze(res, axis=1)\n",
    "res = np.apply_along_axis(lambda x: 1 if x[0] < x[1] else 0, 1, res)\n",
    "res"
   ]
  },
  {
   "cell_type": "code",
   "execution_count": 47,
   "metadata": {},
   "outputs": [
    {
     "ename": "ValueError",
     "evalue": "cannot reshape array of size 20 into shape (374,362)",
     "output_type": "error",
     "traceback": [
      "\u001b[0;31m---------------------------------------------------------------------------\u001b[0m",
      "\u001b[0;31mValueError\u001b[0m                                Traceback (most recent call last)",
      "\u001b[0;32m<ipython-input-47-7c1a5d5058c1>\u001b[0m in \u001b[0;36m<module>\u001b[0;34m()\u001b[0m\n\u001b[0;32m----> 1\u001b[0;31m \u001b[0mplot_decision_boundary\u001b[0m\u001b[0;34m(\u001b[0m\u001b[0;32mlambda\u001b[0m \u001b[0mx\u001b[0m\u001b[0;34m:\u001b[0m \u001b[0mmodel\u001b[0m\u001b[0;34m.\u001b[0m\u001b[0mpredict\u001b[0m\u001b[0;34m(\u001b[0m\u001b[0mnp\u001b[0m\u001b[0;34m.\u001b[0m\u001b[0mexpand_dims\u001b[0m\u001b[0;34m(\u001b[0m\u001b[0mdata\u001b[0m\u001b[0;34m,\u001b[0m \u001b[0;36m1\u001b[0m\u001b[0;34m)\u001b[0m\u001b[0;34m)\u001b[0m\u001b[0;34m,\u001b[0m \u001b[0mdata\u001b[0m\u001b[0;34m,\u001b[0m \u001b[0mlabels\u001b[0m\u001b[0;34m)\u001b[0m\u001b[0;34m\u001b[0m\u001b[0m\n\u001b[0m",
      "\u001b[0;32m<ipython-input-43-46d91bedc657>\u001b[0m in \u001b[0;36mplot_decision_boundary\u001b[0;34m(pred_func, X, y)\u001b[0m\n\u001b[1;32m      8\u001b[0m     \u001b[0;31m# Predict the function value for the whole gid\u001b[0m\u001b[0;34m\u001b[0m\u001b[0;34m\u001b[0m\u001b[0m\n\u001b[1;32m      9\u001b[0m     \u001b[0mZ\u001b[0m \u001b[0;34m=\u001b[0m \u001b[0mpred_func\u001b[0m\u001b[0;34m(\u001b[0m\u001b[0mnp\u001b[0m\u001b[0;34m.\u001b[0m\u001b[0mc_\u001b[0m\u001b[0;34m[\u001b[0m\u001b[0mxx\u001b[0m\u001b[0;34m.\u001b[0m\u001b[0mravel\u001b[0m\u001b[0;34m(\u001b[0m\u001b[0;34m)\u001b[0m\u001b[0;34m,\u001b[0m \u001b[0myy\u001b[0m\u001b[0;34m.\u001b[0m\u001b[0mravel\u001b[0m\u001b[0;34m(\u001b[0m\u001b[0;34m)\u001b[0m\u001b[0;34m]\u001b[0m\u001b[0;34m)\u001b[0m\u001b[0;34m\u001b[0m\u001b[0m\n\u001b[0;32m---> 10\u001b[0;31m     \u001b[0mZ\u001b[0m \u001b[0;34m=\u001b[0m \u001b[0mZ\u001b[0m\u001b[0;34m.\u001b[0m\u001b[0mreshape\u001b[0m\u001b[0;34m(\u001b[0m\u001b[0mxx\u001b[0m\u001b[0;34m.\u001b[0m\u001b[0mshape\u001b[0m\u001b[0;34m)\u001b[0m\u001b[0;34m\u001b[0m\u001b[0m\n\u001b[0m\u001b[1;32m     11\u001b[0m     \u001b[0;31m# Plot the contour and training examples\u001b[0m\u001b[0;34m\u001b[0m\u001b[0;34m\u001b[0m\u001b[0m\n\u001b[1;32m     12\u001b[0m     \u001b[0mplt\u001b[0m\u001b[0;34m.\u001b[0m\u001b[0mcontourf\u001b[0m\u001b[0;34m(\u001b[0m\u001b[0mxx\u001b[0m\u001b[0;34m,\u001b[0m \u001b[0myy\u001b[0m\u001b[0;34m,\u001b[0m \u001b[0mZ\u001b[0m\u001b[0;34m,\u001b[0m \u001b[0mcmap\u001b[0m\u001b[0;34m=\u001b[0m\u001b[0mplt\u001b[0m\u001b[0;34m.\u001b[0m\u001b[0mcm\u001b[0m\u001b[0;34m.\u001b[0m\u001b[0mSpectral\u001b[0m\u001b[0;34m)\u001b[0m\u001b[0;34m\u001b[0m\u001b[0m\n",
      "\u001b[0;31mValueError\u001b[0m: cannot reshape array of size 20 into shape (374,362)"
     ]
    }
   ],
   "source": [
    "plot_decision_boundary(lambda x: model.predict(np.expand_dims(data, 1)), data, labels)"
   ]
  }
 ],
 "metadata": {
  "kernelspec": {
   "display_name": "Python 3",
   "language": "python",
   "name": "python3"
  },
  "language_info": {
   "codemirror_mode": {
    "name": "ipython",
    "version": 3
   },
   "file_extension": ".py",
   "mimetype": "text/x-python",
   "name": "python",
   "nbconvert_exporter": "python",
   "pygments_lexer": "ipython3",
   "version": "3.6.1"
  }
 },
 "nbformat": 4,
 "nbformat_minor": 2
}
