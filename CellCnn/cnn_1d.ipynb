{
 "cells": [
  {
   "cell_type": "code",
   "execution_count": 2,
   "metadata": {},
   "outputs": [],
   "source": [
    "import os\n",
    "\n",
    "# use either 'tensorflow' or 'theano'\n",
    "os.environ['KERAS_BACKEND'] = 'tensorflow'"
   ]
  },
  {
   "cell_type": "code",
   "execution_count": 9,
   "metadata": {},
   "outputs": [],
   "source": [
    "from keras.models import Input, Model\n",
    "from keras.layers import Conv1D, Dense, Lambda\n",
    "from keras.optimizers import Adam\n",
    "from keras.regularizers import l1_l2\n",
    "from keras import backend\n",
    "from tensorflow.contrib.framework import sort\n",
    "import theano.tensor as theano_tensor"
   ]
  },
  {
   "cell_type": "code",
   "execution_count": 10,
   "metadata": {},
   "outputs": [],
   "source": [
    "def select_top(x, k):\n",
    "    if os.environ['KERAS_BACKEND'] == 'theano':\n",
    "        return backend.mean(theano_tensor.sort(x, axis=1)[:, -k:, :], axis=1)\n",
    "\n",
    "    return backend.mean(sort(x, axis=1)[:, -k:, :], axis=1)\n",
    "\n",
    "\n",
    "def cnn_1d(n_rows, n_cols, n_filters, n_classes, n_pool=1, learning_rate=0.005):\n",
    "    # the input layer\n",
    "    data_input = Input(shape=(n_rows, n_cols))\n",
    "\n",
    "    l1 = 0\n",
    "    l2 = 1e-4\n",
    "    coeff_activity = 0.0\n",
    "\n",
    "    # the filters\n",
    "    convolution = Conv1D(\n",
    "        n_filters,\n",
    "        1,\n",
    "        activation='relu',\n",
    "        kernel_regularizer=l1_l2(l1=l1, l2=l2),\n",
    "        strides=1,\n",
    "        # activity_regularizer=utils.KLActivityRegularizer(l=coeff_activity, p=0.05),\n",
    "        name='conv1'\n",
    "    )(data_input)\n",
    "\n",
    "    # convolution = Activation('relu')(convolution)\n",
    "\n",
    "    # the cell grouping part\n",
    "    pooled = Lambda(\n",
    "        select_top,\n",
    "        output_shape=(n_filters,),\n",
    "        arguments={'k': n_pool}\n",
    "    )(convolution)\n",
    "\n",
    "    # network prediction output\n",
    "    output = Dense(\n",
    "        n_classes,\n",
    "        activation='softmax',\n",
    "        kernel_regularizer=l1_l2(l1=l1, l2=l2),\n",
    "        name='output'\n",
    "    )(pooled)\n",
    "\n",
    "    model = Model(inputs=data_input, outputs=output)\n",
    "\n",
    "    model.compile(\n",
    "        optimizer=Adam(lr=learning_rate),\n",
    "        loss='categorical_crossentropy',\n",
    "        metrics=['accuracy']\n",
    "    )\n",
    "\n",
    "    return model"
   ]
  },
  {
   "cell_type": "code",
   "execution_count": 11,
   "metadata": {},
   "outputs": [],
   "source": [
    "model = cnn_1d(10, 3, 3, 2)"
   ]
  },
  {
   "cell_type": "code",
   "execution_count": null,
   "metadata": {},
   "outputs": [],
   "source": []
  }
 ],
 "metadata": {
  "kernelspec": {
   "display_name": "Python 3",
   "language": "python",
   "name": "python3"
  },
  "language_info": {
   "codemirror_mode": {
    "name": "ipython",
    "version": 3
   },
   "file_extension": ".py",
   "mimetype": "text/x-python",
   "name": "python",
   "nbconvert_exporter": "python",
   "pygments_lexer": "ipython3",
   "version": "3.5.2"
  }
 },
 "nbformat": 4,
 "nbformat_minor": 2
}
