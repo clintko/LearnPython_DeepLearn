{
 "cells": [
  {
   "cell_type": "code",
   "execution_count": 1,
   "metadata": {},
   "outputs": [],
   "source": [
    "import numpy as np"
   ]
  },
  {
   "cell_type": "code",
   "execution_count": 7,
   "metadata": {},
   "outputs": [],
   "source": [
    "y = np.array([\n",
    "    [3, 0, 1, 2, 7, 4], \n",
    "    [1, 5, 8, 9, 3, 1], \n",
    "    [2, 7, 2, 5, 1, 3], \n",
    "    [0, 1, 3, 1, 7, 8],\n",
    "    [4, 2, 1, 6, 2, 8],\n",
    "    [2, 4, 5, 2, 3, 9]\n",
    "])\n",
    "\n",
    "x = np.array([\n",
    "    [1, 0, -1],\n",
    "    [1, 0, -1],\n",
    "    [1, 0, -1]\n",
    "])"
   ]
  },
  {
   "cell_type": "code",
   "execution_count": 5,
   "metadata": {},
   "outputs": [
    {
     "name": "stdout",
     "output_type": "stream",
     "text": [
      "[[3 0 1 2 7 4]\n",
      " [1 5 8 9 3 1]\n",
      " [2 7 2 5 1 3]\n",
      " [0 1 3 1 7 8]\n",
      " [4 2 1 6 2 8]\n",
      " [2 4 5 2 3 9]]\n",
      "(6, 6)\n"
     ]
    }
   ],
   "source": [
    "print(y)\n",
    "print(y.shape)"
   ]
  },
  {
   "cell_type": "code",
   "execution_count": 8,
   "metadata": {},
   "outputs": [
    {
     "name": "stdout",
     "output_type": "stream",
     "text": [
      "[[ 1  0 -1]\n",
      " [ 1  0 -1]\n",
      " [ 1  0 -1]]\n",
      "(3, 3)\n"
     ]
    }
   ],
   "source": [
    "print(x)\n",
    "print(x.shape)"
   ]
  },
  {
   "cell_type": "code",
   "execution_count": 17,
   "metadata": {},
   "outputs": [],
   "source": [
    "def conv(y, x):\n",
    "    \"\"\"\n",
    "    Arguments\n",
    "    Results\n",
    "    \"\"\"\n",
    "    \n",
    "    def conv_kernel(y, x, pos_x, pos_y):\n",
    "        \"\"\"\n",
    "        Arguments\n",
    "        Results\n",
    "        \"\"\"\n",
    "        res = 0\n",
    "        for idx_x in range(x.shape[0]):\n",
    "            for idx_y in range(x.shape[1]):\n",
    "                res += (y[pos_x + idx_x][pos_y + idx_y] * x[idx_x][idx_y])\n",
    "            \n",
    "        return res\n",
    "    \n",
    "    res = []\n",
    "    for pos_x in range(4):\n",
    "        for pos_y in range(4):\n",
    "            res.append(conv_kernel(y, x, pos_x, pos_y))\n",
    "    return np.array(res).reshape(4, 4)"
   ]
  },
  {
   "cell_type": "code",
   "execution_count": 18,
   "metadata": {},
   "outputs": [
    {
     "data": {
      "text/plain": [
       "array([[ -5,  -4,   0,   8],\n",
       "       [-10,  -2,   2,   3],\n",
       "       [  0,  -2,  -4,  -7],\n",
       "       [ -3,  -2,  -3, -16]])"
      ]
     },
     "execution_count": 18,
     "metadata": {},
     "output_type": "execute_result"
    }
   ],
   "source": [
    "conv(y, x)"
   ]
  },
  {
   "cell_type": "markdown",
   "metadata": {},
   "source": [
    "# Vertical Detection"
   ]
  },
  {
   "cell_type": "code",
   "execution_count": 23,
   "metadata": {},
   "outputs": [
    {
     "data": {
      "text/plain": [
       "array([[ 0, 30, 30,  0],\n",
       "       [ 0, 30, 30,  0],\n",
       "       [ 0, 30, 30,  0],\n",
       "       [ 0, 30, 30,  0]])"
      ]
     },
     "execution_count": 23,
     "metadata": {},
     "output_type": "execute_result"
    }
   ],
   "source": [
    "y = np.array([\n",
    "    [10, 10, 10, 0, 0, 0], \n",
    "    [10, 10, 10, 0, 0, 0], \n",
    "    [10, 10, 10, 0, 0, 0], \n",
    "    [10, 10, 10, 0, 0, 0],\n",
    "    [10, 10, 10, 0, 0, 0],\n",
    "    [10, 10, 10, 0, 0, 0]\n",
    "])\n",
    "\n",
    "x = np.array([\n",
    "    [1, 0, -1],\n",
    "    [1, 0, -1],\n",
    "    [1, 0, -1]\n",
    "])\n",
    "\n",
    "conv(y, x)"
   ]
  },
  {
   "cell_type": "code",
   "execution_count": 24,
   "metadata": {},
   "outputs": [
    {
     "data": {
      "text/plain": [
       "array([[  0, -30, -30,   0],\n",
       "       [  0, -30, -30,   0],\n",
       "       [  0, -30, -30,   0],\n",
       "       [  0, -30, -30,   0]])"
      ]
     },
     "execution_count": 24,
     "metadata": {},
     "output_type": "execute_result"
    }
   ],
   "source": [
    "y = np.array([\n",
    "    [0, 0, 0, 10, 10, 10], \n",
    "    [0, 0, 0, 10, 10, 10], \n",
    "    [0, 0, 0, 10, 10, 10], \n",
    "    [0, 0, 0, 10, 10, 10],\n",
    "    [0, 0, 0, 10, 10, 10],\n",
    "    [0, 0, 0, 10, 10, 10]\n",
    "])\n",
    "\n",
    "x = np.array([\n",
    "    [1, 0, -1],\n",
    "    [1, 0, -1],\n",
    "    [1, 0, -1]\n",
    "])\n",
    "\n",
    "conv(y, x)"
   ]
  },
  {
   "cell_type": "markdown",
   "metadata": {},
   "source": [
    "# Vertical and Horizontal Edge Detection"
   ]
  },
  {
   "cell_type": "code",
   "execution_count": 26,
   "metadata": {},
   "outputs": [
    {
     "name": "stdout",
     "output_type": "stream",
     "text": [
      "[[  0  30  30   0]\n",
      " [  0  10  10   0]\n",
      " [  0 -10 -10   0]\n",
      " [  0 -30 -30   0]]\n",
      "=============\n",
      "[[  0   0   0   0]\n",
      " [ 30  10 -10 -30]\n",
      " [ 30  10 -10 -30]\n",
      " [  0   0   0   0]]\n"
     ]
    }
   ],
   "source": [
    "y = np.array([\n",
    "    [10, 10, 10,  0,  0,  0], \n",
    "    [10, 10, 10,  0,  0,  0], \n",
    "    [10, 10, 10,  0,  0,  0], \n",
    "    [ 0,  0,  0, 10, 10, 10],\n",
    "    [ 0,  0,  0, 10, 10, 10],\n",
    "    [ 0,  0,  0, 10, 10, 10]\n",
    "])\n",
    "\n",
    "x1 = np.array([\n",
    "    [1, 0, -1],\n",
    "    [1, 0, -1],\n",
    "    [1, 0, -1]\n",
    "])\n",
    "\n",
    "x2 = np.array([\n",
    "    [ 1,  1,  1],\n",
    "    [ 0,  0,  0],\n",
    "    [-1, -1, -1]\n",
    "])\n",
    "\n",
    "\n",
    "print(conv(y, x1))\n",
    "print(\"=============\")\n",
    "print(conv(y, x2))"
   ]
  },
  {
   "cell_type": "markdown",
   "metadata": {},
   "source": [
    "[sobel filter](https://en.wikipedia.org/wiki/Sobel_operator)"
   ]
  },
  {
   "cell_type": "code",
   "execution_count": null,
   "metadata": {},
   "outputs": [],
   "source": [
    "# sobel filter\n",
    "x = np.array([\n",
    "    [1, 0, -1],\n",
    "    [2, 0, -2],\n",
    "    [1, 0, -1]\n",
    "])"
   ]
  },
  {
   "cell_type": "markdown",
   "metadata": {},
   "source": [
    "[Scharr filter](https://www.xilinx.com/html_docs/xilinx2017_4/sdsoc_doc/qpx1504034283355.html)"
   ]
  },
  {
   "cell_type": "code",
   "execution_count": null,
   "metadata": {},
   "outputs": [],
   "source": [
    "# scharr filter\n",
    "x = np.array([\n",
    "    [3,  0, -3],\n",
    "    [10, 0, -10],\n",
    "    [3,  0, -3]\n",
    "])"
   ]
  },
  {
   "cell_type": "markdown",
   "metadata": {},
   "source": [
    "# Padding"
   ]
  },
  {
   "cell_type": "code",
   "execution_count": 27,
   "metadata": {},
   "outputs": [
    {
     "data": {
      "text/plain": [
       "array([[10, 10, 10,  0,  0,  0],\n",
       "       [10, 10, 10,  0,  0,  0],\n",
       "       [10, 10, 10,  0,  0,  0],\n",
       "       [ 0,  0,  0, 10, 10, 10],\n",
       "       [ 0,  0,  0, 10, 10, 10],\n",
       "       [ 0,  0,  0, 10, 10, 10]])"
      ]
     },
     "execution_count": 27,
     "metadata": {},
     "output_type": "execute_result"
    }
   ],
   "source": [
    "y"
   ]
  },
  {
   "cell_type": "code",
   "execution_count": 29,
   "metadata": {},
   "outputs": [
    {
     "name": "stdout",
     "output_type": "stream",
     "text": [
      "[[ 0 10 10 10  0  0  0  0]\n",
      " [ 0 10 10 10  0  0  0  0]\n",
      " [ 0 10 10 10  0  0  0  0]\n",
      " [ 0  0  0  0 10 10 10  0]\n",
      " [ 0  0  0  0 10 10 10  0]\n",
      " [ 0  0  0  0 10 10 10  0]]\n"
     ]
    }
   ],
   "source": [
    "tmp = y\n",
    "tmp = np.column_stack((\n",
    "    tmp.shape[0] * [0],\n",
    "    tmp,\n",
    "    tmp.shape[0] * [0]))\n",
    "print(tmp)"
   ]
  },
  {
   "cell_type": "code",
   "execution_count": 30,
   "metadata": {},
   "outputs": [
    {
     "name": "stdout",
     "output_type": "stream",
     "text": [
      "[[ 0  0  0  0  0  0  0  0]\n",
      " [ 0 10 10 10  0  0  0  0]\n",
      " [ 0 10 10 10  0  0  0  0]\n",
      " [ 0 10 10 10  0  0  0  0]\n",
      " [ 0  0  0  0 10 10 10  0]\n",
      " [ 0  0  0  0 10 10 10  0]\n",
      " [ 0  0  0  0 10 10 10  0]\n",
      " [ 0  0  0  0  0  0  0  0]]\n"
     ]
    }
   ],
   "source": [
    "tmp = np.row_stack((\n",
    "    tmp.shape[1] * [0],\n",
    "    tmp,\n",
    "    tmp.shape[1] * [0]))\n",
    "print(tmp)"
   ]
  },
  {
   "cell_type": "code",
   "execution_count": null,
   "metadata": {},
   "outputs": [],
   "source": []
  },
  {
   "cell_type": "code",
   "execution_count": null,
   "metadata": {},
   "outputs": [],
   "source": []
  },
  {
   "cell_type": "code",
   "execution_count": null,
   "metadata": {},
   "outputs": [],
   "source": []
  }
 ],
 "metadata": {
  "kernelspec": {
   "display_name": "Python 3",
   "language": "python",
   "name": "python3"
  },
  "language_info": {
   "codemirror_mode": {
    "name": "ipython",
    "version": 3
   },
   "file_extension": ".py",
   "mimetype": "text/x-python",
   "name": "python",
   "nbconvert_exporter": "python",
   "pygments_lexer": "ipython3",
   "version": "3.6.1"
  }
 },
 "nbformat": 4,
 "nbformat_minor": 2
}
