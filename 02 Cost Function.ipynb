{
 "cells": [
  {
   "cell_type": "code",
   "execution_count": 2,
   "metadata": {},
   "outputs": [],
   "source": [
    "import numpy as np\n",
    "import matplotlib.pyplot as plt\n",
    "\n",
    "%matplotlib inline"
   ]
  },
  {
   "cell_type": "markdown",
   "metadata": {},
   "source": [
    "# Cost function"
   ]
  },
  {
   "cell_type": "markdown",
   "metadata": {},
   "source": [
    "Suppose we have a binary classification problem, where **y = 1 or 0**. We can calculate the cost function of our result **$\\hat{y}$**.\n",
    "\n",
    "$$\\mathcal{L}(y, \\hat{y}) = - \\big[ y * log(\\hat{y}) + (1 - y) * log(1 - \\hat{y}) \\big]$$"
   ]
  },
  {
   "cell_type": "markdown",
   "metadata": {},
   "source": [
    "$$\\begin{cases} \n",
    "    y = 1 & \\rightarrow & \\mathcal{L}(y, \\hat{y}) = - log(\\hat{y}) \\\\\n",
    "    y = 0 & \\rightarrow & \\mathcal{L}(y, \\hat{y}) = - log(1 - \\hat{y})\n",
    "\\end{cases}$$"
   ]
  },
  {
   "cell_type": "code",
   "execution_count": 19,
   "metadata": {},
   "outputs": [],
   "source": [
    "def sigmoid(z):\n",
    "    \"\"\"\n",
    "    Compute the sigmoid of z using logistic function 1/(1+e^(-z))\n",
    "    \n",
    "    Arguments:\n",
    "    z --- A scalar or numpy array of any size\n",
    "    \n",
    "    Return:\n",
    "    s --- sigmoid(z)\n",
    "    \"\"\"\n",
    "    # 1/(1+e^(-z))\n",
    "    s = 1 / (1 + np.exp(-z))\n",
    "    \n",
    "    return s"
   ]
  },
  {
   "cell_type": "code",
   "execution_count": 30,
   "metadata": {},
   "outputs": [],
   "source": [
    "x = np.linspace(start = -5, stop = 5, num = 10, dtype=np.float)\n",
    "a = sigmoid(x)\n",
    "y = np.random.binomial(n = 1, p = a, size = 10)"
   ]
  },
  {
   "cell_type": "code",
   "execution_count": 61,
   "metadata": {},
   "outputs": [
    {
     "name": "stdout",
     "output_type": "stream",
     "text": [
      "[' Y        ' 'Yhat     ' 'Cost']\n",
      "[[ 0.          0.00669285  0.00671535]\n",
      " [ 0.          0.02005754  0.02026142]\n",
      " [ 0.          0.0585369   0.06032013]\n",
      " [ 0.          0.1588691   0.17300799]\n",
      " [ 1.          0.36457644  1.00901904]\n",
      " [ 0.          0.63542356  1.00901904]\n",
      " [ 1.          0.8411309   0.17300799]\n",
      " [ 1.          0.9414631   0.06032013]\n",
      " [ 1.          0.97994246  0.02026142]\n",
      " [ 1.          0.99330715  0.00671535]]\n"
     ]
    }
   ],
   "source": [
    "cost = - ( y * np.log(a) + (1 - y) * np.log(1 - a) )\n",
    "print(np.array([\" Y        \", \"Yhat     \", \"Cost\"]))\n",
    "print(np.array([y, a, cost]).transpose())"
   ]
  },
  {
   "cell_type": "markdown",
   "metadata": {},
   "source": [
    "# Cost function of m samples"
   ]
  },
  {
   "cell_type": "markdown",
   "metadata": {},
   "source": [
    "$$(x^{(1)}, y^{(1)}), (x^{(2)}, y^{(2)}), ..., (x^{(m)}, y^{(m)})$$\n",
    "\n",
    "$$\\hat{y}^{(i)} = \\sigma(w^Tx^{(i)}+b)$$\n",
    "\n",
    "$$J(w, b) = \\frac{1}{m}\\sum\\mathcal{L}(y^{(i)}, \\hat{y}^{(i)}) = - \\big[ y * log(\\hat{y}) + (1 - y) * log(1 - \\hat{y}) \\big]$$"
   ]
  },
  {
   "cell_type": "code",
   "execution_count": 63,
   "metadata": {},
   "outputs": [],
   "source": [
    "m = len(y)\n",
    "cost = 1/m * -np.sum(y * np.log(a) + (1 - y) * np.log(1 - a))"
   ]
  },
  {
   "cell_type": "code",
   "execution_count": 64,
   "metadata": {},
   "outputs": [
    {
     "name": "stdout",
     "output_type": "stream",
     "text": [
      "0.253864784041\n"
     ]
    }
   ],
   "source": [
    "print(cost)"
   ]
  }
 ],
 "metadata": {
  "kernelspec": {
   "display_name": "Python 3",
   "language": "python",
   "name": "python3"
  },
  "language_info": {
   "codemirror_mode": {
    "name": "ipython",
    "version": 3
   },
   "file_extension": ".py",
   "mimetype": "text/x-python",
   "name": "python",
   "nbconvert_exporter": "python",
   "pygments_lexer": "ipython3",
   "version": "3.6.1"
  }
 },
 "nbformat": 4,
 "nbformat_minor": 2
}
