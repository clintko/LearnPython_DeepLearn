{
 "cells": [
  {
   "cell_type": "code",
   "execution_count": null,
   "metadata": {
    "collapsed": true
   },
   "outputs": [],
   "source": []
  },
  {
   "cell_type": "markdown",
   "metadata": {},
   "source": [
    "\n",
    "$J = 0, dw_1 = 0, dw_2 = 0, db = 0$\n",
    "\n",
    "for i = 1 to m:\n",
    "\n",
    "$\\hspace{1cm}z^{(i)} = w^T x^{(i)} + b$\n",
    "\n",
    "$\\hspace{1cm}a^{(i)} = \\sigma( z^{(i)} )$\n",
    "\n",
    "$\\hspace{1cm}J += -[y^{(i)} \\text{log} \\hat{y}^{(i)} + (1-y^{(i)}) \\text{log} (1-\\hat{y}^{(i)})]$\n",
    "\n",
    "$\\hspace{1cm}dw_1 += x^{(i)}_1 dz^{(i)}$\n",
    "\n",
    "$\\hspace{1cm}dw_2 += x^{(i)}_2 dz^{(i)}$\n",
    "\n",
    "$\\hspace{1cm}db += dz^{(i)}$\n",
    "\n",
    "$J = J/m, dw_1 = dw_1/m, dw_2 = dw_2/m, db = db/m$\n"
   ]
  },
  {
   "cell_type": "markdown",
   "metadata": {},
   "source": [
    "**After vectorization,**"
   ]
  },
  {
   "cell_type": "markdown",
   "metadata": {},
   "source": [
    "$J = 0, dw = np.zeros((n_x, 1)), db = 0$\n",
    "\n",
    "for i = 1 to m:\n",
    "\n",
    "$\\hspace{1cm}z^{(i)} = w^T x^{(i)} + b$\n",
    "\n",
    "$\\hspace{1cm}a^{(i)} = \\sigma( z^{(i)} )$\n",
    "\n",
    "$\\hspace{1cm}J += -[y^{(i)} \\text{log} \\hat{y}^{(i)} + (1-y^{(i)}) \\text{log} (1-\\hat{y}^{(i)})]$\n",
    "\n",
    "$\\hspace{1cm}dw += x^{(i)} dz^{(i)}$\n",
    "\n",
    "$\\hspace{1cm}db += dz^{(i)}$\n",
    "\n",
    "$J = J/m, dw = dw/m, db = db/m$\n"
   ]
  },
  {
   "cell_type": "markdown",
   "metadata": {},
   "source": [
    "**Notice that we still have one for loop left**"
   ]
  },
  {
   "cell_type": "code",
   "execution_count": null,
   "metadata": {
    "collapsed": true
   },
   "outputs": [],
   "source": []
  },
  {
   "cell_type": "code",
   "execution_count": null,
   "metadata": {
    "collapsed": true
   },
   "outputs": [],
   "source": []
  }
 ],
 "metadata": {
  "kernelspec": {
   "display_name": "Python 3",
   "language": "python",
   "name": "python3"
  },
  "language_info": {
   "codemirror_mode": {
    "name": "ipython",
    "version": 3
   },
   "file_extension": ".py",
   "mimetype": "text/x-python",
   "name": "python",
   "nbconvert_exporter": "python",
   "pygments_lexer": "ipython3",
   "version": "3.6.1"
  }
 },
 "nbformat": 4,
 "nbformat_minor": 2
}
