{
 "cells": [
  {
   "cell_type": "code",
   "execution_count": 17,
   "metadata": {
    "collapsed": true
   },
   "outputs": [],
   "source": [
    "import numpy as np\n",
    "import time\n",
    "import math"
   ]
  },
  {
   "cell_type": "code",
   "execution_count": 14,
   "metadata": {},
   "outputs": [
    {
     "name": "stdout",
     "output_type": "stream",
     "text": [
      "Res:  249940.636595\n",
      "Vectorized Version: 2.020120620727539 ms\n",
      "\n",
      "============\n",
      "\n",
      "Res:  249940.636595\n",
      "For loop: 538.2564067840576 ms\n"
     ]
    }
   ],
   "source": [
    "a = np.random.rand(1000000)\n",
    "b = np.random.rand(1000000)\n",
    "\n",
    "tic = time.time()\n",
    "c = np.dot(a,b)\n",
    "toc = time.time()\n",
    "\n",
    "print(\"Res: \", c)\n",
    "print(\"Vectorized Version: \" + str(1000 * (toc-tic)) + \" ms\")\n",
    "\n",
    "print(\"\\n============\\n\")\n",
    "\n",
    "tic = time.time()\n",
    "c = 0\n",
    "for idx in range(len(a)):\n",
    "    c += a[idx] * b[idx]\n",
    "toc = time.time()\n",
    "\n",
    "print(\"Res: \", c)\n",
    "print(\"For loop: \" + str(1000 * (toc-tic)) + \" ms\")\n"
   ]
  },
  {
   "cell_type": "markdown",
   "metadata": {},
   "source": [
    "# Matrix Multiplication"
   ]
  },
  {
   "cell_type": "code",
   "execution_count": 27,
   "metadata": {
    "collapsed": true
   },
   "outputs": [],
   "source": [
    "a = np.random.randn(3, 3)\n",
    "b = np.random.randn(3, 1)\n",
    "c = a*b"
   ]
  },
  {
   "cell_type": "code",
   "execution_count": 28,
   "metadata": {},
   "outputs": [
    {
     "data": {
      "text/plain": [
       "array([[ -2.39891298e+00,  -3.34795719e+00,   1.73056001e-01],\n",
       "       [  6.97931358e-01,   2.30436502e-03,  -1.25715842e+00],\n",
       "       [ -1.40172182e+00,   3.01732127e-01,  -1.13879805e+00]])"
      ]
     },
     "execution_count": 28,
     "metadata": {},
     "output_type": "execute_result"
    }
   ],
   "source": [
    "c"
   ]
  },
  {
   "cell_type": "markdown",
   "metadata": {},
   "source": [
    "# Apply operation element-wisely"
   ]
  },
  {
   "cell_type": "markdown",
   "metadata": {},
   "source": []
  },
  {
   "cell_type": "code",
   "execution_count": 26,
   "metadata": {},
   "outputs": [
    {
     "name": "stdout",
     "output_type": "stream",
     "text": [
      "Res: 17192.8673462\n",
      "Vectorized Version: 0.4069805145263672 ms\n",
      "\n",
      "============\n",
      "\n",
      "Res: [ 17192.86734617]\n",
      "For loop: 36.704301834106445 ms\n"
     ]
    }
   ],
   "source": [
    "n = 10000\n",
    "v = np.random.rand(n)\n",
    "\n",
    "u = np.zeros((n,1))\n",
    "\n",
    "tic = time.time()\n",
    "u = np.exp(v)\n",
    "toc = time.time()\n",
    "\n",
    "print(\"Res:\", sum(u))\n",
    "print(\"Vectorized Version: \" + str(1000 * (toc-tic)) + \" ms\")\n",
    "\n",
    "print(\"\\n============\\n\")\n",
    "\n",
    "u = np.zeros((n,1))\n",
    "\n",
    "tic = time.time()\n",
    "for idx in range(n):\n",
    "    u[idx] += math.exp(v[idx])\n",
    "toc = time.time()\n",
    "\n",
    "print(\"Res:\", sum(u))\n",
    "print(\"For loop: \" + str(1000 * (toc-tic)) + \" ms\")"
   ]
  },
  {
   "cell_type": "code",
   "execution_count": null,
   "metadata": {
    "collapsed": true
   },
   "outputs": [],
   "source": []
  }
 ],
 "metadata": {
  "kernelspec": {
   "display_name": "Python 3",
   "language": "python",
   "name": "python3"
  },
  "language_info": {
   "codemirror_mode": {
    "name": "ipython",
    "version": 3
   },
   "file_extension": ".py",
   "mimetype": "text/x-python",
   "name": "python",
   "nbconvert_exporter": "python",
   "pygments_lexer": "ipython3",
   "version": "3.6.1"
  }
 },
 "nbformat": 4,
 "nbformat_minor": 2
}
