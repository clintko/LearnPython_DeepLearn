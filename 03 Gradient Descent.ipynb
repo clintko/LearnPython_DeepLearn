{
 "cells": [
  {
   "cell_type": "markdown",
   "metadata": {},
   "source": [
    "# Gradient Descent"
   ]
  },
  {
   "cell_type": "markdown",
   "metadata": {},
   "source": [
    "$$(x^{(1)}, y^{(1)}), (x^{(2)}, y^{(2)}), ..., (x^{(m)}, y^{(m)})$$\n",
    "\n",
    "$$\\hat{y}^{(i)} = \\sigma(w^Tx^{(i)}+b)$$\n",
    "\n",
    "$$J(w, b) = \\frac{1}{m}\\sum\\mathcal{L}(y^{(i)}, \\hat{y}^{(i)}) = - \\big[ y * log(\\hat{y}) + (1 - y) * log(1 - \\hat{y}) \\big]$$"
   ]
  },
  {
   "cell_type": "markdown",
   "metadata": {},
   "source": [
    "Repeat {\n",
    "\n",
    "$\\hspace{1cm} \\text{ w := w - $\\alpha \\frac{\\partial J}{\\partial w}$ }$\n",
    "\n",
    "$\\hspace{1cm} \\text{ b := b - $\\alpha \\frac{\\partial J}{\\partial b}$ }$\n",
    "\n",
    "}\n",
    "\n",
    "where $\\alpha$ is learning rate"
   ]
  },
  {
   "cell_type": "markdown",
   "metadata": {},
   "source": [
    "# Gradient Descent of Logistic Regression"
   ]
  },
  {
   "cell_type": "markdown",
   "metadata": {},
   "source": [
    "$$\\begin{aligned}\n",
    "    z &= w_1 x_1 + w_2 x_2 + b \\\\\n",
    "    a &= \\sigma(z) \\\\\n",
    "    \\mathcal{L}(a, y) &= - \\big[ y * log(a) + (1 - y) * log(1 - a) \\big] \\\\\n",
    "\\end{aligned}$$\n",
    "\n",
    "<br/>"
   ]
  },
  {
   "cell_type": "markdown",
   "metadata": {},
   "source": [
    "$$z = w_1 x_1 + w_2 x_2 + b$$\n",
    "\n",
    "$$\\frac{\\partial z}{\\partial w_1} = x_1$$\n",
    "\n",
    "$$\\frac{\\partial z}{\\partial w_2} = x_2$$\n",
    "\n",
    "$$\\frac{\\partial z}{\\partial b} = 1$$\n",
    "\n",
    "<br/>"
   ]
  },
  {
   "cell_type": "markdown",
   "metadata": {},
   "source": [
    "$$a = \\sigma(z) = \\frac{1}{1 + e^{-z}}$$\n",
    "\n",
    "$$\\frac{\\partial a}{\\partial z} = \\frac{0 - e^{-z}}{(1 + e^{-z})^2} = \\frac{- e^{-z}}{(1 + e^{-z})^2} = a^2 e^{-z}$$\n",
    "\n",
    "<br/>"
   ]
  },
  {
   "cell_type": "markdown",
   "metadata": {},
   "source": [
    "$$\\mathcal{L}(a, y) = - \\big[ y * log(a) + (1 - y) * log(1 - a) \\big]$$\n",
    "\n",
    "$$\\frac{\\partial \\mathcal{L}}{\\partial a} = -\\frac{y}{a} + \\frac{1 - y}{1 - a}$$\n",
    "\n",
    "<br/>"
   ]
  },
  {
   "cell_type": "markdown",
   "metadata": {},
   "source": [
    "$$\\frac{\\partial \\mathcal{L}}{\\partial w_1} = \\frac{\\partial \\mathcal{L}}{\\partial a} \\times \\frac{\\partial a}{\\partial z} \\times \\frac{\\partial z}{\\partial w_1} = \\big[-\\frac{y}{a} + \\frac{1 - y}{1 - a}\\big] \\times \\big[a^2 e^{-z}\\big] \\times x_1 = (a - y) x_1$$\n",
    "\n",
    "$$\\frac{\\partial \\mathcal{L}}{\\partial w_2} = \\frac{\\partial \\mathcal{L}}{\\partial a} \\times \\frac{\\partial a}{\\partial z} \\times \\frac{\\partial z}{\\partial w_2} = \\big[-\\frac{y}{a} + \\frac{1 - y}{1 - a}\\big] \\times \\big[a^2 e^{-z}\\big] \\times x_2 = (a - y) x_2$$\n",
    "\n",
    "$$\\frac{\\partial \\mathcal{L}}{\\partial b} = \\frac{\\partial \\mathcal{L}}{\\partial a} \\times \\frac{\\partial a}{\\partial z} \\times \\frac{\\partial z}{\\partial b} = \\big[-\\frac{y}{a} + \\frac{1 - y}{1 - a}\\big] \\times \\big[a^2 e^{-z}\\big] = (a - y)$$\n",
    "\n",
    "<br/>"
   ]
  },
  {
   "cell_type": "markdown",
   "metadata": {},
   "source": [
    "$$\\begin{aligned}\n",
    "    dz &= \\frac{\\partial \\mathcal{L}}{\\partial z} = (a - y) & \\rightarrow & dz^{(i)} = a^{(i)} - y^{(i)}\\\\\n",
    "    dw &= \\frac{\\partial \\mathcal{L}}{\\partial w} = (a - y) \\begin{bmatrix}x_1 \\\\ x_2\\end{bmatrix} = x dz & \\rightarrow & dw^{(i)} =  x^{(i)} dz^{(i)}\\\\\n",
    "\\end{aligned}$$\n",
    "\n",
    "<br/>"
   ]
  },
  {
   "cell_type": "markdown",
   "metadata": {},
   "source": [
    "$$\\begin{aligned}\n",
    "    X  &= \\begin{bmatrix} x^{(1)} \\dots x^{(m)} \\end{bmatrix} & X &= \\text{a matrix}     \\\\\n",
    "    Y  &= \\begin{bmatrix} y^{(1)} \\dots y^{(m)} \\end{bmatrix} & Y &= \\text{a row vector} \\\\\n",
    "    A  &= \\begin{bmatrix} a^{(1)} \\dots a^{(m)} \\end{bmatrix} & A &= \\text{a row vector} \\\\\n",
    "    dZ &= \\begin{bmatrix} dz^{(1)} \\dots dz^{(m)} \\end{bmatrix} = A - Y & dZ &= \\text{a row vector}\\\\\n",
    "    dW &= \\begin{bmatrix} x^{(1)} dz^{(1)} \\dots x^{(m)} dz^{(m)} \\end{bmatrix}\n",
    "\\end{aligned}$$\n"
   ]
  },
  {
   "cell_type": "markdown",
   "metadata": {},
   "source": [
    "```\n",
    "dw = 1/m * np.dot(X, (A-Y).T)\n",
    "db = 1/m * np.sum(A-Y)\n",
    "```"
   ]
  },
  {
   "cell_type": "markdown",
   "metadata": {},
   "source": [
    "$$J(w, b) = \\frac{1}{m}\\sum\\mathcal{L}(a^{(i)}, y^{(i)})$$"
   ]
  },
  {
   "cell_type": "markdown",
   "metadata": {},
   "source": [
    "$$dw = \\frac{1}{m} \\sum x^{(i)} dz^{(i)} = \\frac{1}{m} X dZ^T$$\n",
    "\n",
    "$$db = \\frac{1}{m} \\sum dz^{(i)} = \\frac{1}{m} dZ^T$$\n",
    "\n",
    "\\begin{bmatrix} dz^{(1)} \\dots dz^{(m)} \\end{bmatrix} = A - Y \\\\\n",
    "    dW &= \\begin{bmatrix} x^{(1)} dz^{(1)} \\dots x^{(m)} dz^{(m)} \\end{bmatrix}"
   ]
  },
  {
   "cell_type": "markdown",
   "metadata": {},
   "source": []
  },
  {
   "cell_type": "markdown",
   "metadata": {},
   "source": []
  },
  {
   "cell_type": "markdown",
   "metadata": {},
   "source": []
  },
  {
   "cell_type": "markdown",
   "metadata": {},
   "source": []
  }
 ],
 "metadata": {
  "kernelspec": {
   "display_name": "Python 3",
   "language": "python",
   "name": "python3"
  },
  "language_info": {
   "codemirror_mode": {
    "name": "ipython",
    "version": 3
   },
   "file_extension": ".py",
   "mimetype": "text/x-python",
   "name": "python",
   "nbconvert_exporter": "python",
   "pygments_lexer": "ipython3",
   "version": "3.6.1"
  }
 },
 "nbformat": 4,
 "nbformat_minor": 2
}
